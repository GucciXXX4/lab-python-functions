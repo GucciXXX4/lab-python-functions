{
 "cells": [
  {
   "cell_type": "markdown",
   "id": "25d7736c-ba17-4aff-b6bb-66eba20fbf4e",
   "metadata": {},
   "source": [
    "# Lab | Functions"
   ]
  },
  {
   "cell_type": "markdown",
   "id": "0c581062-8967-4d93-b06e-62833222f930",
   "metadata": {
    "tags": []
   },
   "source": [
    "## Exercise: Managing Customer Orders with Functions\n",
    "\n",
    "In the previous exercise, you improved the code for managing customer orders by using loops and flow control. Now, let's take it a step further and refactor the code by introducing functions.\n",
    "\n",
    "Follow the steps below to complete the exercise:\n",
    "\n",
    "1. Define a function named `initialize_inventory` that takes `products` as a parameter. Inside the function, implement the code for initializing the inventory dictionary using a loop and user input.\n",
    "\n",
    "2. Define a function named `get_customer_orders` that takes no parameters. Inside the function, implement the code for prompting the user to enter the product names using a loop. The function should return the `customer_orders` set.\n",
    "\n",
    "3. Define a function named `update_inventory` that takes `customer_orders` and `inventory` as parameters. Inside the function, implement the code for updating the inventory dictionary based on the customer orders.\n",
    "\n",
    "4. Define a function named `calculate_order_statistics` that takes `customer_orders` and `products` as parameters. Inside the function, implement the code for calculating the order statistics (total products ordered, and percentage of unique products ordered). The function should return these values.\n",
    "\n",
    "5. Define a function named `print_order_statistics` that takes `order_statistics` as a parameter. Inside the function, implement the code for printing the order statistics.\n",
    "\n",
    "6. Define a function named `print_updated_inventory` that takes `inventory` as a parameter. Inside the function, implement the code for printing the updated inventory.\n",
    "\n",
    "7. Call the functions in the appropriate sequence to execute the program and manage customer orders.\n",
    "\n",
    "Hints for functions:\n",
    "\n",
    "- Consider the input parameters required for each function and their return values.\n",
    "- Utilize function parameters and return values to transfer data between functions.\n",
    "- Test your functions individually to ensure they work correctly.\n",
    "\n",
    "\n"
   ]
  },
  {
   "cell_type": "code",
   "execution_count": 3,
   "id": "9eec74b5-c3f9-499c-bee2-eb82f53407c5",
   "metadata": {},
   "outputs": [
    {
     "name": "stdout",
     "output_type": "stream",
     "text": [
      "Enter the quantity available for each product:\n"
     ]
    },
    {
     "name": "stdin",
     "output_type": "stream",
     "text": [
      "t-shirt:  10\n",
      "mug:  10\n",
      "hat:  10\n",
      "book:  10\n",
      "keychain:  10\n"
     ]
    },
    {
     "name": "stdout",
     "output_type": "stream",
     "text": [
      "\n",
      "Available products: ['t-shirt', 'mug', 'hat', 'book', 'keychain']\n"
     ]
    },
    {
     "name": "stdin",
     "output_type": "stream",
     "text": [
      "Enter a product to order:  hat\n",
      "Do you want to add another product? (yes/no):  yes\n",
      "Enter a product to order:  mug\n",
      "Do you want to add another product? (yes/no):  no\n"
     ]
    },
    {
     "name": "stdout",
     "output_type": "stream",
     "text": [
      "\n",
      "Order Statistics:\n",
      "Total Products Ordered: 2\n",
      "Percentage of Products Ordered: 40.00%\n",
      "\n",
      "Updated Inventory:\n",
      "t-shirt: 10\n",
      "mug: 9\n",
      "hat: 9\n",
      "book: 10\n",
      "keychain: 10\n"
     ]
    }
   ],
   "source": [
    "def initialize_inventory(products):\n",
    "    inventory = {}\n",
    "    print(\"Enter the quantity available for each product:\")\n",
    "    for product in products:\n",
    "        quantity = int(input(f\"{product}: \"))\n",
    "        inventory[product] = quantity\n",
    "    return inventory\n",
    "\n",
    "\n",
    "# customer orders\n",
    "def get_customer_orders(products):\n",
    "    customer_orders = set()\n",
    "    print(\"\\nAvailable products:\", products)\n",
    "\n",
    "    while True:\n",
    "        product_choice = input(\"Enter a product to order: \").lower()\n",
    "        if product_choice in products:\n",
    "            customer_orders.add(product_choice)\n",
    "        else:\n",
    "            print(\"Invalid product, please choose from the list.\")\n",
    "\n",
    "        another = input(\"Do you want to add another product? (yes/no): \").lower()\n",
    "        if another != \"yes\":\n",
    "            break\n",
    "\n",
    "    return customer_orders\n",
    "\n",
    "\n",
    "# update inventory based on customer orders\n",
    "def update_inventory(customer_orders, inventory):\n",
    "    for product in customer_orders:\n",
    "        inventory[product] -= 1\n",
    "    return inventory\n",
    "\n",
    "\n",
    "# calculate order statistics\n",
    "def calculate_order_statistics(customer_orders, products):\n",
    "    total_products_ordered = len(customer_orders)\n",
    "    total_products_available = len(products)\n",
    "    percentage_ordered = (total_products_ordered / total_products_available) * 100\n",
    "    return (total_products_ordered, percentage_ordered)\n",
    "\n",
    "\n",
    "# print order statistics\n",
    "def print_order_statistics(order_statistics):\n",
    "    print(\"\\nOrder Statistics:\")\n",
    "    print(f\"Total Products Ordered: {order_statistics[0]}\")\n",
    "    print(f\"Percentage of Products Ordered: {order_statistics[1]:.2f}%\")\n",
    "\n",
    "\n",
    "# print the updated inventory\n",
    "def print_updated_inventory(inventory):\n",
    "    print(\"\\nUpdated Inventory:\")\n",
    "    for product in inventory:\n",
    "        print(f\"{product}: {inventory[product]}\")\n",
    "\n",
    "\n",
    "# program\n",
    "\n",
    "def main():\n",
    "    products = [\"t-shirt\", \"mug\", \"hat\", \"book\", \"keychain\"]\n",
    "\n",
    "    # initialize inventory\n",
    "    inventory = initialize_inventory(products)\n",
    "\n",
    "    # get customer orders\n",
    "    customer_orders = get_customer_orders(products)\n",
    "\n",
    "    # update inventory\n",
    "    inventory = update_inventory(customer_orders, inventory)\n",
    "\n",
    "    # calculate statistics\n",
    "    order_statistics = calculate_order_statistics(customer_orders, products)\n",
    "\n",
    "    # print results\n",
    "    print_order_statistics(order_statistics)\n",
    "    print_updated_inventory(inventory)\n",
    "\n",
    "\n",
    "if __name__ == \"__main__\":\n",
    "    main()\n"
   ]
  },
  {
   "cell_type": "code",
   "execution_count": null,
   "id": "87fcbf5f-4958-47c2-ba3b-82607648628c",
   "metadata": {},
   "outputs": [],
   "source": []
  }
 ],
 "metadata": {
  "kernelspec": {
   "display_name": "Python [conda env:base] *",
   "language": "python",
   "name": "conda-base-py"
  },
  "language_info": {
   "codemirror_mode": {
    "name": "ipython",
    "version": 3
   },
   "file_extension": ".py",
   "mimetype": "text/x-python",
   "name": "python",
   "nbconvert_exporter": "python",
   "pygments_lexer": "ipython3",
   "version": "3.13.5"
  }
 },
 "nbformat": 4,
 "nbformat_minor": 5
}
